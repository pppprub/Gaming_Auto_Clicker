{
 "cells": [
  {
   "cell_type": "code",
   "execution_count": 38,
   "id": "468cf5d8",
   "metadata": {},
   "outputs": [],
   "source": [
    "# pip install pyautogui #install pyautogui package in jupyter\n",
    "# py -m pip install pyautogui #install pyautogui package in cmd"
   ]
  },
  {
   "cell_type": "markdown",
   "id": "0e8a0e68",
   "metadata": {},
   "source": [
    "## AUTO CLICK for video games\n",
    "https://packaging.python.org/en/latest/tutorials/installing-packages/\n"
   ]
  },
  {
   "cell_type": "code",
   "execution_count": 6,
   "id": "ad035394",
   "metadata": {},
   "outputs": [],
   "source": [
    "import pyautogui\n",
    "import time\n",
    "import sys\n",
    "from datetime import datetime\n",
    "import random\n",
    "# pyautogui.moveTo(200, 150)"
   ]
  },
  {
   "cell_type": "code",
   "execution_count": 33,
   "id": "c9c808f8",
   "metadata": {},
   "outputs": [
    {
     "name": "stdout",
     "output_type": "stream",
     "text": [
      "Animation time left 22.66666666666667 mins\n",
      "Animation time left 22.333333333333336 mins\n",
      "Animation time left 22.000000000000004 mins\n",
      "Animation time left 21.66666666666667 mins\n",
      "Animation time left 21.333333333333336 mins\n",
      "Animation time left 21.0 mins\n",
      "Animation time left 20.666666666666668 mins\n",
      "Animation time left 20.333333333333336 mins\n",
      "Animation time left 20.0 mins\n",
      "Animation time left 19.666666666666664 mins\n",
      "Animation time left 19.333333333333332 mins\n",
      "\n",
      "\n"
     ]
    }
   ],
   "source": [
    "# run the python IDLE as administrator, and then open and run this script in the IDLE \n",
    "numMin = 30 #time of animation running\n",
    "pyautogui.moveTo(1580, 780)#position of joinning game button\n",
    "sleeptime=20 #sleep time in sec\n",
    "x=0\n",
    "# pyautogui.size() screen size: 1920 X 1080\n",
    "\n",
    "try:\n",
    "    while(x<numMin):\n",
    "        print(\"press CTRL + C to exit\")\n",
    "        time.sleep(round(0.5*sleeptime))\n",
    "        x+=sleeptime/60\n",
    "        pyautogui.moveTo(1580, 780)#position of joinning game button\n",
    "        pyautogui.click()\n",
    "        pyautogui.press(\"ctrl\")\n",
    "        pyautogui.press(\"W\")\n",
    "        pyautogui.scroll(2) \n",
    "        time.sleep(round(0.5*sleeptime))\n",
    "        pyautogui.moveTo(random.randint(300, 1200), random.randint(300, 700))#position of joinning game button\n",
    "        pyautogui.press(\"shift\")\n",
    "        pyautogui.press(\"shift\")\n",
    "        pyautogui.press(\"ctrl\")\n",
    "        print(\"Animation time left {} mins\".format(numMin-x))\n",
    "except KeyboardInterrupt:\n",
    "    print('\\n')"
   ]
  },
  {
   "cell_type": "code",
   "execution_count": 39,
   "id": "df39b7bf",
   "metadata": {},
   "outputs": [],
   "source": [
    "# import pyautogui\n",
    "# import time\n",
    "# import sys\n",
    "# from datetime import datetime\n",
    "# pyautogui.FAILSAFE = False\n",
    "# # numMin = None\n",
    "# numMin = 1s\n",
    "# # if ((len(sys.argv)<2) or sys.argv[1].isalpha() or int(sys.argv[1])<1):\n",
    "# #     numMin = 3\n",
    "# # else:\n",
    "# #     numMin = int(sys.argv[1])\n",
    "# while(True):\n",
    "#     x=0\n",
    "#     while(x<numMin):\n",
    "#         time.sleep(60)\n",
    "#         x+=1\n",
    "#     for i in range(0,200):\n",
    "#         pyautogui.moveTo(0,i*4)\n",
    "#     pyautogui.moveTo(1,1)\n",
    "#     for i in range(0,3):\n",
    "#         pyautogui.press(\"shift\")\n",
    "#     print(\"Movement made at {}\".format(datetime.now().time()))"
   ]
  },
  {
   "cell_type": "code",
   "execution_count": 24,
   "id": "bbb84ba9",
   "metadata": {},
   "outputs": [
    {
     "data": {
      "text/plain": [
       "Size(width=1920, height=1080)"
      ]
     },
     "execution_count": 24,
     "metadata": {},
     "output_type": "execute_result"
    }
   ],
   "source": [
    "pyautogui.size()"
   ]
  },
  {
   "cell_type": "code",
   "execution_count": 27,
   "id": "c53dd352",
   "metadata": {},
   "outputs": [
    {
     "data": {
      "text/plain": [
       "504"
      ]
     },
     "execution_count": 27,
     "metadata": {},
     "output_type": "execute_result"
    }
   ],
   "source": [
    "import random\n",
    "random.randint(300, 1200)"
   ]
  }
 ],
 "metadata": {
  "kernelspec": {
   "display_name": "Python 3",
   "language": "python",
   "name": "python3"
  },
  "language_info": {
   "codemirror_mode": {
    "name": "ipython",
    "version": 3
   },
   "file_extension": ".py",
   "mimetype": "text/x-python",
   "name": "python",
   "nbconvert_exporter": "python",
   "pygments_lexer": "ipython3",
   "version": "3.8.8"
  }
 },
 "nbformat": 4,
 "nbformat_minor": 5
}
